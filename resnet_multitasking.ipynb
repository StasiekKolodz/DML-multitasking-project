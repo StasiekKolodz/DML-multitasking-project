{
  "nbformat": 4,
  "nbformat_minor": 0,
  "metadata": {
    "colab": {
      "provenance": [],
      "gpuType": "T4"
    },
    "kernelspec": {
      "name": "python3",
      "display_name": "Python 3"
    },
    "language_info": {
      "name": "python"
    },
    "accelerator": "GPU"
  },
  "cells": [
    {
      "cell_type": "code",
      "execution_count": 1,
      "metadata": {
        "colab": {
          "base_uri": "https://localhost:8080/"
        },
        "id": "ZqyOtbwu78BE",
        "outputId": "73751504-438f-4c26-fd0e-530f2ca633c5"
      },
      "outputs": [
        {
          "output_type": "stream",
          "name": "stdout",
          "text": [
            "Collecting fastai==2.4\n",
            "  Using cached fastai-2.4-py3-none-any.whl (187 kB)\n",
            "Requirement already satisfied: pip in /usr/local/lib/python3.10/dist-packages (from fastai==2.4) (23.1.2)\n",
            "Requirement already satisfied: packaging in /usr/local/lib/python3.10/dist-packages (from fastai==2.4) (23.2)\n",
            "Collecting fastcore<1.4,>=1.3.8 (from fastai==2.4)\n",
            "  Using cached fastcore-1.3.29-py3-none-any.whl (55 kB)\n",
            "Requirement already satisfied: torchvision>=0.8.2 in /usr/local/lib/python3.10/dist-packages (from fastai==2.4) (0.15.2+cu118)\n",
            "Requirement already satisfied: matplotlib in /usr/local/lib/python3.10/dist-packages (from fastai==2.4) (3.7.1)\n",
            "Requirement already satisfied: pandas in /usr/local/lib/python3.10/dist-packages (from fastai==2.4) (1.5.3)\n",
            "Requirement already satisfied: requests in /usr/local/lib/python3.10/dist-packages (from fastai==2.4) (2.31.0)\n",
            "Requirement already satisfied: pyyaml in /usr/local/lib/python3.10/dist-packages (from fastai==2.4) (6.0.1)\n",
            "Requirement already satisfied: fastprogress>=0.2.4 in /usr/local/lib/python3.10/dist-packages (from fastai==2.4) (1.0.3)\n",
            "Requirement already satisfied: pillow>6.0.0 in /usr/local/lib/python3.10/dist-packages (from fastai==2.4) (9.4.0)\n",
            "Requirement already satisfied: scikit-learn in /usr/local/lib/python3.10/dist-packages (from fastai==2.4) (1.2.2)\n",
            "Requirement already satisfied: scipy in /usr/local/lib/python3.10/dist-packages (from fastai==2.4) (1.11.3)\n",
            "Requirement already satisfied: spacy<4 in /usr/local/lib/python3.10/dist-packages (from fastai==2.4) (3.6.1)\n",
            "INFO: pip is looking at multiple versions of fastai to determine which version is compatible with other requirements. This could take a while.\n",
            "\u001b[31mERROR: Could not find a version that satisfies the requirement torch<1.10,>=1.7.0 (from fastai) (from versions: 1.11.0, 1.12.0, 1.12.1, 1.13.0, 1.13.1, 2.0.0, 2.0.1, 2.1.0)\u001b[0m\u001b[31m\n",
            "\u001b[0m\u001b[31mERROR: No matching distribution found for torch<1.10,>=1.7.0\u001b[0m\u001b[31m\n",
            "\u001b[0m"
          ]
        }
      ],
      "source": [
        "!pip install fastai==2.4\n",
        "import os\n",
        "import glob\n",
        "import time\n",
        "import numpy as np\n",
        "from PIL import Image\n",
        "from pathlib import Path\n",
        "from tqdm.notebook import tqdm\n",
        "import matplotlib.pyplot as plt\n",
        "from skimage.color import rgb2lab, lab2rgb\n",
        "\n",
        "import torch\n",
        "from torch import nn, optim\n",
        "from torchvision import transforms\n",
        "from torchvision.utils import make_grid\n",
        "from torch.utils.data import Dataset, DataLoader\n",
        "device = torch.device(\"cuda\" if torch.cuda.is_available() else \"cpu\")\n",
        "\n",
        "from fastai.vision.learner import create_body\n",
        "from torchvision.models.resnet import resnet18\n",
        "from fastai.vision.models.unet import DynamicUnet"
      ]
    },
    {
      "cell_type": "markdown",
      "source": [
        "Creating models"
      ],
      "metadata": {
        "id": "MrJJmJHb955v"
      }
    },
    {
      "cell_type": "code",
      "source": [
        "class ClassifierHead(nn.Module):\n",
        "  def __init__(self, input_size=512*8*8, output_size=5):\n",
        "        super().__init__()\n",
        "\n",
        "        self.relu = nn.ReLU()\n",
        "        self.fc1 = nn.Linear(input_size, 1000)\n",
        "        self.fc2 = nn.Linear(1000, output_size)\n",
        "\n",
        "  def forward(self, x):\n",
        "      x = self.fc1(x)\n",
        "      return self.fc2(self.relu(x))\n",
        "\n",
        "class ColorizationHead(nn.Module):\n",
        "  def __init__(self, input_c=1, output_c=2, n_down=5, num_filters=512):\n",
        "        super().__init__()\n",
        "        self.model_layers = []\n",
        "        self.model_layers += (self.get_layer(num_filters, num_filters))\n",
        "        for _ in range(n_down - 5):\n",
        "            self.model_layers += (self.get_layer(num_filters, num_filters, dropout=True))\n",
        "        out_filters = num_filters\n",
        "        for _ in range(3):\n",
        "            self.model_layers += (self.get_layer(out_filters // 2, out_filters))\n",
        "            out_filters //= 2\n",
        "        self.model_layers += (self.get_layer(output_c, out_filters, outermost=True))\n",
        "        self.model = nn.Sequential(*self.model_layers)\n",
        "\n",
        "  def forward(self, x):\n",
        "      print(\"A\")\n",
        "      return self.model(x)\n",
        "\n",
        "  def get_layer(self, nf, ni, bias=False, dropout=False, outermost=False):\n",
        "        layer = []\n",
        "        conv = nn.ConvTranspose2d(ni, nf, kernel_size=4,\n",
        "                                              stride=2, padding=1, bias=bias)\n",
        "        relu = nn.ReLU(False)\n",
        "\n",
        "        layer.append(relu)\n",
        "        layer.append(conv)\n",
        "\n",
        "\n",
        "        if outermost:\n",
        "          layer.append(nn.Tanh())\n",
        "        else:\n",
        "          layer.append(nn.BatchNorm2d(nf))\n",
        "\n",
        "        if dropout:\n",
        "          layer.append(nn.Dropout(0.5))\n",
        "\n",
        "        return layer\n",
        "\n",
        "class MLTModel(nn.Module):\n",
        "  def __init__(self, head=\"multitask\"):\n",
        "          super().__init__()\n",
        "          self.resnet_body = create_body(resnet18(), pretrained=True, n_in=n_input, cut=-2)\n",
        "          self.heads = []\n",
        "          if head==\"multitask\":\n",
        "            self.classifier_head = ClassifierHead()\n",
        "            self.colorization_head = ColorizationHead()\n",
        "          elif head==\"classifier\":\n",
        "            pass\n",
        "          else:\n",
        "            pass\n",
        "  def forward(self, x):\n",
        "      x = self.resnet_body(x)\n",
        "      out_classifier = self.classifier_head(x.view(-1, 512*8*8))\n",
        "      out_colorization_head = self.colorization_head(x)\n",
        "      return out_classifier, out_colorization_head"
      ],
      "metadata": {
        "id": "a0Aa8KNK93vD"
      },
      "execution_count": 10,
      "outputs": []
    },
    {
      "cell_type": "code",
      "source": [
        "n_input = 1\n",
        "\n",
        "x = torch.zeros(1,1, 256, 256)\n",
        "\n",
        "# body = create_body(resnet18(), pretrained=True, n_in=n_input, cut=-2)\n",
        "# y = body(x)\n",
        "# print(y.shape)\n",
        "# x = x.view(-1, 512*8*8)\n",
        "\n",
        "model = MLTModel()\n",
        "out_classifier, out_colorization_head = model(x)\n",
        "print(out_classifier.shape)\n",
        "print(out_colorization_head.shape)"
      ],
      "metadata": {
        "colab": {
          "base_uri": "https://localhost:8080/"
        },
        "id": "XyD-lUiP8lhV",
        "outputId": "b74d41d3-fecf-4bcf-b7cd-0f9c410150c9"
      },
      "execution_count": 11,
      "outputs": [
        {
          "output_type": "stream",
          "name": "stdout",
          "text": [
            "A\n",
            "torch.Size([1, 5])\n",
            "torch.Size([1, 2, 256, 256])\n"
          ]
        }
      ]
    }
  ]
}